{
 "cells": [
  {
   "attachments": {},
   "cell_type": "markdown",
   "metadata": {},
   "source": [
    "# Ceneo Scraper"
   ]
  },
  {
   "attachments": {},
   "cell_type": "markdown",
   "metadata": {},
   "source": [
    "# Biblioteki"
   ]
  },
  {
   "cell_type": "code",
   "execution_count": 1,
   "metadata": {},
   "outputs": [],
   "source": [
    "import requests\n",
    "from bs4 import BeautifulSoup\n"
   ]
  },
  {
   "attachments": {},
   "cell_type": "markdown",
   "metadata": {},
   "source": [
    "## Wysyłanie do serwera żądania dostępu do zasobu"
   ]
  },
  {
   "cell_type": "code",
   "execution_count": 2,
   "metadata": {},
   "outputs": [],
   "source": [
    "product_id = \"94103927\"\n",
    "url = f\"https://www.ceneo.pl/{product_id}/opinie-2\"\n",
    "response = requests.get(url)"
   ]
  },
  {
   "cell_type": "code",
   "execution_count": null,
   "metadata": {},
   "outputs": [],
   "source": [
    "page_dom = BeautifulSoup(response.text, 'html.parser')\n",
    "print(type(page_dom))\n",
    "opinions = page_dom.select(\"div.js_product-review\")\n",
    "print(type(opinions))\n",
    "opinion = page_dom.select_one(\"div.js_product-review\")\n",
    "print(type(opinion))\n",
    "print(opinion)\n"
   ]
  },
  {
   "attachments": {},
   "cell_type": "markdown",
   "metadata": {},
   "source": [
    "## Ekstrakcja składowych pojedynczej opinii\n",
    "\n",
    "\n",
    "|Składowa           |Zmienna                |Selektor\n",
    "|id opinii          |opinion_id             |[\"data-entry-id\"]\n",
    "|autor              |author_name            |span.user-post__author-name\n",
    "|rekomendacja       |recommendation         |span.user-post__author-recomendation > em\n",
    "|gwiazdki           |rating                 |span.user-post__score-count\n",
    "|treść              |content                |div.user-post__text\n",
    "|lista zalet        |pros                   |~div.review-feature__title review-feature__title--positives\n",
    "|lista wad          |cons                   |~div.review-feature__title review-feature__title--negatives\n",
    "|vote up            |useful                 |button.vote-yes > span|useful|\n",
    "|vote down          |useless                |button.vote-no > span|useless|\n",
    "|data wystawienia   |publish_date           |span.user-post__published > time:nth-child(1)['datetime']\n",
    "|data zakupu        |purchase_date          |span.user-post__published > time:nth-child(2)['datetime']\n",
    "\n"
   ]
  },
  {
   "cell_type": "code",
   "execution_count": null,
   "metadata": {},
   "outputs": [],
   "source": [
    "opinion_id = opinion[\"data-entry-id\"]\n",
    "author_name = opinion.select_one(\"span.user-post__author-name\")\n",
    "recommendation_parent = opinion.select_one(\"div.user-post__author-recomendation\")\n",
    "recommendation = recommendation_parent.select(\"b:nth-child.user-post__author-recomendation\")\n",
    "rating = opinion.select_one(\"div.user-post__score\")\n",
    "content = opinion.select_one(\".user-post__text\")\n",
    "pros = opinion.select_one(\".review-feature__title review-feature__title--positives\")"
   ]
  }
 ],
 "metadata": {
  "kernelspec": {
   "display_name": ".venv",
   "language": "python",
   "name": "python3"
  },
  "language_info": {
   "codemirror_mode": {
    "name": "ipython",
    "version": 3
   },
   "file_extension": ".py",
   "mimetype": "text/x-python",
   "name": "python",
   "nbconvert_exporter": "python",
   "pygments_lexer": "ipython3",
   "version": "3.11.4"
  },
  "orig_nbformat": 4
 },
 "nbformat": 4,
 "nbformat_minor": 2
}
