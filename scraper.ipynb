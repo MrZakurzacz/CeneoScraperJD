{
 "cells": [
  {
   "attachments": {},
   "cell_type": "markdown",
   "metadata": {},
   "source": [
    "# Ceneo Scraper"
   ]
  },
  {
   "attachments": {},
   "cell_type": "markdown",
   "metadata": {},
   "source": [
    "## ekstrakcja składowych pojedynczej opinii\n",
    "|Składowa|Selektor|Zmienna|\n",
    "|--------|--------|-------|\n",
    "|id opinii|[\"data-entry-id\"]|opinion_id|\n",
    "|autor|span.user-post__author-name|author|\n",
    "|rekomendacja|span.user-post__author-recomendation > em|recommendation|\n",
    "|gwiazdki|span.user-post__score-count|rating|\n",
    "|treść|div.user-post__text|content|\n",
    "|lista zalet|div.review-feature__title--positives ~ div.review-feature_item|pros|\n",
    "|lista wad|div.review-feature__title--negatives ~ div.review-feature_item|cons|\n",
    "|dla ilu przydatna|button.vote-yes > span|useful|\n",
    "|dla ilu nieprzydatna|button.vote-no > span|useless|\n",
    "|data wystawienia|span.user-post__published > time:nth-child(1)['datatime']|publish_date|\n",
    "|data zakupu|span.user-post__published > time:nth-child(2)['datatime']|purchase_date|"
   ]
  },
  {
   "attachments": {},
   "cell_type": "markdown",
   "metadata": {},
   "source": [
    "# Biblioteki"
   ]
  },
  {
   "cell_type": "code",
   "execution_count": 21,
   "metadata": {},
   "outputs": [],
   "source": [
    "import os\n",
    "import json\n",
    "import requests\n",
    "from bs4 import BeautifulSoup\n"
   ]
  },
  {
   "attachments": {},
   "cell_type": "markdown",
   "metadata": {},
   "source": [
    "## Funkcja do"
   ]
  },
  {
   "cell_type": "code",
   "execution_count": 22,
   "metadata": {},
   "outputs": [],
   "source": [
    "def extract(ancestor, selector=None, attribute=None, return_list=False):\n",
    "    if selector:\n",
    "        if return_list:\n",
    "            if attribute:\n",
    "                return [tag[attribute].text.strip() for tag in ancestor.select(selector)]\n",
    "            return [tag.text.strip() for tag in ancestor.select(selector)]\n",
    "        if attribute:\n",
    "            try:\n",
    "                return ancestor.select_one(selector)[attribute].strip()\n",
    "            except TypeError:\n",
    "                return None\n",
    "        try:\n",
    "            return ancestor.select_one(selector).text.strip()\n",
    "        except AttributeError:\n",
    "            return None\n",
    "    if attribute:\n",
    "        return ancestor[attribute]\n",
    "    return ancestor.text.strip()"
   ]
  },
  {
   "cell_type": "code",
   "execution_count": 26,
   "metadata": {},
   "outputs": [],
   "source": [
    "selectors = {\n",
    "            \"opinion_id\" : (None,\"data-entry-id\"),\n",
    "            \"author\" : (\"span.user-post__author-name\",),\n",
    "            \"recommendation\" : (\"span.user-post__author-recomendation > em\",),\n",
    "            \"rating\" : (\"span.user-post__score-count\",),\n",
    "            \"content\" : (\"div.user-post__text\",),\n",
    "            \"pros\" : (\"div.review-feature__title--positives ~ div.review-feature_item\",None,True),\n",
    "            \"cons\" : (\"div.review-feature__title--negatives ~ div.review-feature_item\",None,True),\n",
    "            \"useful\" : (\"button.vote-yes > span\",),\n",
    "            \"useless\" : (\"button.vote-no > span\",),\n",
    "            \"publish_date\" : (\"span.user-post__published > time:nth-child(1)\",\"datetime\"),\n",
    "            \"purchase_date\" : (\"span.user-post__published > time:nth-child(2)\",\"datetime\"),\n",
    "            }"
   ]
  },
  {
   "attachments": {},
   "cell_type": "markdown",
   "metadata": {},
   "source": [
    "## Wysyłanie do serwera żądania dostępu do zasobu"
   ]
  },
  {
   "cell_type": "code",
   "execution_count": 27,
   "metadata": {},
   "outputs": [],
   "source": [
    "    product_id = \"94103927\"\n",
    "    url = f\"https://www.ceneo.pl/{product_id}/opinie-1\"\n",
    "\n",
    "    "
   ]
  },
  {
   "cell_type": "code",
   "execution_count": 28,
   "metadata": {},
   "outputs": [],
   "source": [
    "all_opinions = []\n",
    "while (url):\n",
    "    response = requests.get(url)\n",
    "    page_dom = BeautifulSoup(response.text, \"html.parser\")\n",
    "    opinions = page_dom.select(\"div.js_product-review\")\n",
    "    all_opinions = []\n",
    "    for opinion in opinions:\n",
    "        single_opinion = {\n",
    "            key : extract(opinion, *value)\n",
    "                for key, value in selectors.items()\n",
    "            }\n",
    "        all_opinions.append(single_opinion)\n",
    "        try:\n",
    "            url = \"https://www.ceneo.pl\" + extract(page_dom,\"a.pagination__next\",\"href\")\n",
    "        except TypeError:\n",
    "            url = None\n",
    "\n"
   ]
  },
  {
   "cell_type": "code",
   "execution_count": null,
   "metadata": {},
   "outputs": [],
   "source": [
    "#old\n",
    "page_dom = BeautifulSoup(response.text, \"html.parser\")\n",
    "print(type(page_dom))\n",
    "opinions = page_dom.select(\"div.js_product-review\")\n",
    "\n",
    "#opinion = page_dom.select_one(\"div.js_product-review\")\n",
    "print(type(opinion))\n",
    "#print(opinion)"
   ]
  },
  {
   "cell_type": "code",
   "execution_count": 33,
   "metadata": {},
   "outputs": [],
   "source": [
    "#old\n",
    "all_opinions = []\n",
    "for opinion in opinions:\n",
    "    try:\n",
    "        single_opinion = {\n",
    "            \"opinion_id\" : opinion[\"data-entry-id\"],\n",
    "            \"author\" : opinion.select_one(\"span.user-post__author-name\").text.strip(),\n",
    "            \"recommendation\" : opinion.select_one(\"span.user-post__author-recomendation > em\").text.strip(),\n",
    "            \"rating\" : opinion.select_one(\"span.user-post__score-count\").text.strip(),\n",
    "            \"content\" : opinion.select_one(\"div.user-post__text\").text.strip(),\n",
    "            \"pros\" : [p.text.strip() for p in opinion.select(\"div.review-feature__title--positives ~ div.review-feature_item\")],\n",
    "            \"cons\" : [c.text.strip() for c in opinion.select(\"div.review-feature__title--negatives ~ div.review-feature_item\")],\n",
    "            \"useful\" : opinion.select_one(\"button.vote-yes > span\").text.strip(),\n",
    "            \"useless\" : opinion.select_one(\"button.vote-no > span\").text.strip(),\n",
    "            \"publish_date\" : opinion.select_one(\"span.user-post__published > time:nth-child(1)\")[\"datetime\"].strip(),\n",
    "            \"purchase_date\" : opinion.select_one(\"span.user-post__published > time:nth-child(2)\")[\"datetime\"].strip()\n",
    "            }\n",
    "        all_opinions.append(single_opinion)\n",
    "    except (TypeError, AttributeError):\n",
    "        pass\n",
    "url = \"https://www.ceneo.pl\" + page_dom.select_one(\"a.pagination__next\")[\"href\"]"
   ]
  },
  {
   "cell_type": "code",
   "execution_count": 29,
   "metadata": {},
   "outputs": [
    {
     "name": "stdout",
     "output_type": "stream",
     "text": [
      "8\n"
     ]
    }
   ],
   "source": [
    "if not os.path.exists(\"opinions\"):\n",
    "    os.mkdir(\"opinions\")\n",
    "with open(f\"opinions/{product_id}.json\", \"w\", encoding=\"UTF-8\") as opf:\n",
    "    json.dump(all_opinions, opf,indent=4, ensure_ascii=False)\n",
    "print(len(all_opinions))\n",
    "#print(json.dumps(all_opinions,indent=4, ensure_ascii=False))"
   ]
  }
 ],
 "metadata": {
  "kernelspec": {
   "display_name": ".venv",
   "language": "python",
   "name": "python3"
  },
  "language_info": {
   "codemirror_mode": {
    "name": "ipython",
    "version": 3
   },
   "file_extension": ".py",
   "mimetype": "text/x-python",
   "name": "python",
   "nbconvert_exporter": "python",
   "pygments_lexer": "ipython3",
   "version": "3.11.4"
  },
  "orig_nbformat": 4
 },
 "nbformat": 4,
 "nbformat_minor": 2
}
